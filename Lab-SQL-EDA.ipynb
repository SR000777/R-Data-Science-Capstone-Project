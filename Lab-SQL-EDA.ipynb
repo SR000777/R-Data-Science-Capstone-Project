{
 "cells": [
  {
   "cell_type": "markdown",
   "metadata": {},
   "source": [
    "<center>\n",
    "<img src=\"https://cf-courses-data.s3.us.cloud-object-storage.appdomain.cloud/IBMDeveloperSkillsNetwork-RP0321EN-SkillsNetwork/labs/module_1/images/SN_web_lightmode.png\" width=\"300\"> \n",
    "</center>\n",
    "\n",
    "# Assignment: Exploratory Data Analysis with SQL\n",
    "Estimated time needed: 60 minutes\n",
    "\n",
    "\n",
    "# Introduction\n",
    "Using this R notebook you will perform exploratory data analysis tasks using SQL queries with the RODBC R package. You will not be graded here, but you will be asked to present some of these results in your final assignment, where you will be graded on the accuracy of your results as well as the content of your SQL queries.\n"
   ]
  },
  {
   "cell_type": "markdown",
   "metadata": {},
   "source": [
    "### Establish your Db2 connection\n",
    "Load the 'RODBC' library, and use the 'odbcConnect( )' function as you did in the previous lab to establish the connection to your Db2 assets.  \n",
    "Provided you successfully loaded your data into the tables in that lab, you are now ready to start running SQL queries using the RODBC library as you did in Course 3.\n"
   ]
  },
  {
   "cell_type": "code",
   "execution_count": 1,
   "metadata": {
    "tags": []
   },
   "outputs": [],
   "source": [
    "# provide your solution here\n",
    "library(RODBC)"
   ]
  },
  {
   "cell_type": "markdown",
   "metadata": {},
   "source": [
    "\n",
    "## Task 1 - Record Count\n",
    "#### Determine how many records are in the seoul_bike_sharing dataset.\n"
   ]
  },
  {
   "cell_type": "markdown",
   "metadata": {},
   "source": [
    "### Solution 1\n"
   ]
  },
  {
   "cell_type": "code",
   "execution_count": 2,
   "metadata": {
    "tags": []
   },
   "outputs": [
    {
     "name": "stdout",
     "output_type": "stream",
     "text": [
      "[1] 8465\n"
     ]
    }
   ],
   "source": [
    "# provide your solution here\n",
    "# Load the dataset\n",
    "seoul_bike_sharing <- read.csv(\"seoul_bike_sharing.csv\")\n",
    "\n",
    "# Determine the number of records\n",
    "num_records <- nrow(seoul_bike_sharing)\n",
    "\n",
    "# Print the number of records\n",
    "print(num_records)"
   ]
  },
  {
   "cell_type": "markdown",
   "metadata": {},
   "source": [
    "## Task 2 - Operational Hours\n",
    "#### Determine how many hours had non-zero rented bike count.\n"
   ]
  },
  {
   "cell_type": "markdown",
   "metadata": {},
   "source": [
    "### Solution 2\n"
   ]
  },
  {
   "cell_type": "code",
   "execution_count": 3,
   "metadata": {
    "tags": []
   },
   "outputs": [
    {
     "name": "stdout",
     "output_type": "stream",
     "text": [
      "[1] 97407\n"
     ]
    }
   ],
   "source": [
    "# provide your solution here\n",
    "# Load the dataset\n",
    "df <- read.csv(\"seoul_bike_sharing.csv\")\n",
    "\n",
    "# Step 2: Sum the values in the fourth column of the filtered DataFrame\n",
    "sum_fourth_column <- sum(df[ ,4])\n",
    "\n",
    "# Print the result\n",
    "print(sum_fourth_column)"
   ]
  },
  {
   "cell_type": "markdown",
   "metadata": {},
   "source": [
    "## Task 3 - Weather Outlook\n",
    "#### Query the the weather forecast for Seoul over the next 3 hours.\n",
    "Recall that the records in the CITIES_WEATHER_FORECAST dataset are 3 hours apart, so we just need the first record from the query.\n"
   ]
  },
  {
   "cell_type": "markdown",
   "metadata": {},
   "source": [
    "### Solution 3\n"
   ]
  },
  {
   "cell_type": "code",
   "execution_count": 4,
   "metadata": {
    "tags": []
   },
   "outputs": [
    {
     "data": {
      "text/html": [
       "<table>\n",
       "<caption>A data.frame: 1 × 3</caption>\n",
       "<thead>\n",
       "\t<tr><th></th><th scope=col>City</th><th scope=col>Temperature</th><th scope=col>Condition</th></tr>\n",
       "\t<tr><th></th><th scope=col>&lt;fct&gt;</th><th scope=col>&lt;dbl&gt;</th><th scope=col>&lt;fct&gt;</th></tr>\n",
       "</thead>\n",
       "<tbody>\n",
       "\t<tr><th scope=row>1</th><td>Seoul</td><td>30.10879</td><td>Cloudy</td></tr>\n",
       "</tbody>\n",
       "</table>\n"
      ],
      "text/latex": [
       "A data.frame: 1 × 3\n",
       "\\begin{tabular}{r|lll}\n",
       "  & City & Temperature & Condition\\\\\n",
       "  & <fct> & <dbl> & <fct>\\\\\n",
       "\\hline\n",
       "\t1 & Seoul & 30.10879 & Cloudy\\\\\n",
       "\\end{tabular}\n"
      ],
      "text/markdown": [
       "\n",
       "A data.frame: 1 × 3\n",
       "\n",
       "| <!--/--> | City &lt;fct&gt; | Temperature &lt;dbl&gt; | Condition &lt;fct&gt; |\n",
       "|---|---|---|---|\n",
       "| 1 | Seoul | 30.10879 | Cloudy |\n",
       "\n"
      ],
      "text/plain": [
       "  City  Temperature Condition\n",
       "1 Seoul 30.10879    Cloudy   "
      ]
     },
     "metadata": {},
     "output_type": "display_data"
    }
   ],
   "source": [
    "# provide your solution here\n",
    "# Load the dataset\n",
    "# Read the CSV file\n",
    "cities_weather_forecast <- read.csv(\"cities_weather_forecast.csv\")\n",
    "cities_weather_forecast [1, ]"
   ]
  },
  {
   "cell_type": "markdown",
   "metadata": {},
   "source": [
    "## Task 4 - Seasons\n",
    "#### Find which seasons are included in the seoul bike sharing dataset.\n"
   ]
  },
  {
   "cell_type": "markdown",
   "metadata": {},
   "source": [
    "### Solution 4\n"
   ]
  },
  {
   "cell_type": "code",
   "execution_count": 5,
   "metadata": {
    "tags": []
   },
   "outputs": [
    {
     "name": "stdout",
     "output_type": "stream",
     "text": [
      "[1] Winter Spring Summer Autumn\n",
      "Levels: Autumn Spring Summer Winter\n"
     ]
    }
   ],
   "source": [
    "# Read the CSV file\n",
    "seoul_bike_sharing <- read.csv(\"seoul_bike_sharing.csv\")\n",
    "\n",
    "# Identify duplicated values in the 'SEASONS' column\n",
    "duplicated_seasons <- seoul_bike_sharing$SEASONS[duplicated(seoul_bike_sharing$SEASONS)]\n",
    "\n",
    "# Remove duplicates to get unique values\n",
    "unique_seasons <- unique(seoul_bike_sharing$SEASONS)\n",
    "\n",
    "# Print the unique values in a table format\n",
    "print(unique_seasons)"
   ]
  },
  {
   "cell_type": "markdown",
   "metadata": {},
   "source": [
    "## Task 5 - Date Range\n",
    "#### Find the first and last dates in the Seoul Bike Sharing dataset.\n"
   ]
  },
  {
   "cell_type": "markdown",
   "metadata": {},
   "source": [
    "### Solution 5\n"
   ]
  },
  {
   "cell_type": "code",
   "execution_count": 6,
   "metadata": {
    "tags": []
   },
   "outputs": [
    {
     "name": "stdout",
     "output_type": "stream",
     "text": [
      "[1] \"First date: 2017-12-01\"\n",
      "[1] \"Last date: 2018-11-30\"\n"
     ]
    }
   ],
   "source": [
    "# Read the CSV file\n",
    "seoul_bike_sharing <- read.csv(\"seoul_bike_sharing.csv\")\n",
    "\n",
    "# Convert the DATE column to Date type with the appropriate format\n",
    "seoul_bike_sharing$DATE <- as.Date(seoul_bike_sharing$DATE, format=\"%d/%m/%Y\")\n",
    "\n",
    "# Find the first and last date\n",
    "first_date <- min(seoul_bike_sharing$DATE, na.rm=TRUE)\n",
    "last_date <- max(seoul_bike_sharing$DATE, na.rm=TRUE)\n",
    "\n",
    "# Print the results\n",
    "print(paste(\"First date:\", first_date))\n",
    "print(paste(\"Last date:\", last_date))"
   ]
  },
  {
   "cell_type": "markdown",
   "metadata": {},
   "source": [
    "## Task 6 - Subquery - 'all-time high'\n",
    "#### determine which date and hour had the most bike rentals.\n"
   ]
  },
  {
   "cell_type": "markdown",
   "metadata": {},
   "source": [
    "### Solution 6\n"
   ]
  },
  {
   "cell_type": "code",
   "execution_count": 7,
   "metadata": {},
   "outputs": [
    {
     "name": "stdout",
     "output_type": "stream",
     "text": [
      "[1] 3556\n"
     ]
    }
   ],
   "source": [
    "# Read the CSV file into a data frame\n",
    "seoul_bike_sharing <- read.csv(\"seoul_bike_sharing.csv\")\n",
    "\n",
    "# Find the maximum value in the RENTED_BIKE_COUNT column\n",
    "max_rented_bike_count <- max(seoul_bike_sharing$RENTED_BIKE_COUNT, na.rm = TRUE)\n",
    "\n",
    "# Print the result (if needed)\n",
    "print(max_rented_bike_count)"
   ]
  },
  {
   "cell_type": "markdown",
   "metadata": {},
   "source": [
    "## Task 7 - Hourly popularity and temperature by season\n",
    "#### Determine the average hourly temperature and the average number of bike rentals per hour over each season. List the top ten results by average bike count.\n"
   ]
  },
  {
   "cell_type": "markdown",
   "metadata": {},
   "source": [
    "### Solution 7\n"
   ]
  },
  {
   "cell_type": "code",
   "execution_count": 8,
   "metadata": {},
   "outputs": [
    {
     "name": "stdout",
     "output_type": "stream",
     "text": [
      "  SEASONS TEMPERATURE RENTED_BIKE_COUNT\n",
      "1  Autumn   13.821580          924.1105\n",
      "2  Spring   13.021685          746.2542\n",
      "3  Summer   26.587711         1034.0734\n",
      "4  Winter   -2.540463          225.5412\n"
     ]
    }
   ],
   "source": [
    "# Read the CSV file\n",
    "seoul_bike_sharing <- read.csv(\"seoul_bike_sharing.csv\")\n",
    "\n",
    "# Compute the mean of TEMPERATURE and RENTED_BIKE_COUNT by SEASONS\n",
    "result <- aggregate(cbind(TEMPERATURE, RENTED_BIKE_COUNT) ~ SEASONS, \n",
    "                    data = seoul_bike_sharing, \n",
    "                    FUN = mean)\n",
    "\n",
    "# Print the result\n",
    "print(result)"
   ]
  },
  {
   "cell_type": "markdown",
   "metadata": {},
   "source": [
    "## Task 8 - Rental Seasonality\n",
    "#### Find the average hourly bike count during each season. \n",
    "Also include the minimum, maximum, and standard deviation of the hourly bike count for each season. \n"
   ]
  },
  {
   "cell_type": "markdown",
   "metadata": {},
   "source": [
    "### Solution 8\n"
   ]
  },
  {
   "cell_type": "code",
   "execution_count": 9,
   "metadata": {},
   "outputs": [
    {
     "name": "stdout",
     "output_type": "stream",
     "text": [
      "  SEASONS Average_Bike_Count Min_Bike_Count Max_Bike_Count SD_Bike_Count\n",
      "1  Autumn           924.1105              2           3298      617.5479\n",
      "2  Spring           746.2542              2           3251      618.6680\n",
      "3  Summer          1034.0734              9           3556      690.2448\n",
      "4  Winter           225.5412              3            937      150.3722\n"
     ]
    }
   ],
   "source": [
    "# Read the CSV file\n",
    "seoul_bike_sharing <- read.csv(\"seoul_bike_sharing.csv\")\n",
    "\n",
    "# Average hourly bike count\n",
    "avg_bike_count <- aggregate(RENTED_BIKE_COUNT ~ SEASONS, \n",
    "                            data = seoul_bike_sharing, \n",
    "                            FUN = mean)\n",
    "\n",
    "# Minimum hourly bike count\n",
    "min_bike_count <- aggregate(RENTED_BIKE_COUNT ~ SEASONS, \n",
    "                            data = seoul_bike_sharing, \n",
    "                            FUN = min)\n",
    "\n",
    "# Maximum hourly bike count\n",
    "max_bike_count <- aggregate(RENTED_BIKE_COUNT ~ SEASONS, \n",
    "                            data = seoul_bike_sharing, \n",
    "                            FUN = max)\n",
    "\n",
    "# Standard deviation of hourly bike count\n",
    "sd_bike_count <- aggregate(RENTED_BIKE_COUNT ~ SEASONS, \n",
    "                           data = seoul_bike_sharing, \n",
    "                           FUN = sd)\n",
    "\n",
    "# Merge all results into one data frame\n",
    "result <- merge(avg_bike_count, min_bike_count, by = \"SEASONS\", suffixes = c(\"_mean\", \"_min\"))\n",
    "result <- merge(result, max_bike_count, by = \"SEASONS\")\n",
    "result <- merge(result, sd_bike_count, by = \"SEASONS\")\n",
    "\n",
    "# Rename the columns for clarity\n",
    "colnames(result) <- c(\"SEASONS\", \"Average_Bike_Count\", \"Min_Bike_Count\", \"Max_Bike_Count\", \"SD_Bike_Count\")\n",
    "\n",
    "# Print the result\n",
    "print(result)"
   ]
  },
  {
   "cell_type": "markdown",
   "metadata": {},
   "source": [
    "Let's explore a bit and see what might be the most significant contributing factors in terms of the provided data.\n"
   ]
  },
  {
   "cell_type": "markdown",
   "metadata": {},
   "source": [
    "## Task 9 - Weather Seasonality\n",
    "#### Consider the weather over each season. On average, what were the TEMPERATURE, HUMIDITY, WIND_SPEED, VISIBILITY, DEW_POINT_TEMPERATURE, SOLAR_RADIATION, RAINFALL, and SNOWFALL per season?\n",
    "Include the average bike count as well , and rank the results by average bike count so you can see if it is correlated with the weather at all. \n"
   ]
  },
  {
   "cell_type": "markdown",
   "metadata": {},
   "source": [
    "### Solution 9\n"
   ]
  },
  {
   "cell_type": "code",
   "execution_count": 10,
   "metadata": {},
   "outputs": [
    {
     "name": "stdout",
     "output_type": "stream",
     "text": [
      "  SEASONS Average_Temperature Average_Humidity Average_Wind_Speed\n",
      "3  Summer           26.587711         64.98143           1.609420\n",
      "1  Autumn           13.821580         59.04491           1.492101\n",
      "2  Spring           13.021685         58.75833           1.857778\n",
      "4  Winter           -2.540463         49.74491           1.922685\n",
      "  Average_Visibility Average_Dew_Point_Temperature Average_Solar_Radiation\n",
      "3           1501.745                     18.750136               0.7612545\n",
      "1           1558.174                      5.150594               0.5227827\n",
      "2           1240.912                      4.091389               0.6803009\n",
      "4           1445.987                    -12.416667               0.2981806\n",
      "  Average_Rainfall Average_Snowfall Average_Bike_Count\n",
      "3       0.25348732       0.00000000          1034.0734\n",
      "1       0.11765617       0.06350026           924.1105\n",
      "2       0.18694444       0.00000000           746.2542\n",
      "4       0.03282407       0.24750000           225.5412\n"
     ]
    }
   ],
   "source": [
    "# Read the CSV file\n",
    "seoul_bike_sharing <- read.csv(\"seoul_bike_sharing.csv\")\n",
    "\n",
    "# Compute the average of various columns by SEASONS\n",
    "result <- aggregate(cbind(TEMPERATURE, HUMIDITY, WIND_SPEED, VISIBILITY, \n",
    "                          DEW_POINT_TEMPERATURE, SOLAR_RADIATION, RAINFALL, \n",
    "                          SNOWFALL, RENTED_BIKE_COUNT) ~ SEASONS, \n",
    "                    data = seoul_bike_sharing, \n",
    "                    FUN = mean)\n",
    "\n",
    "# Rename columns for clarity\n",
    "colnames(result) <- c(\"SEASONS\", \"Average_Temperature\", \"Average_Humidity\", \n",
    "                       \"Average_Wind_Speed\", \"Average_Visibility\", \n",
    "                       \"Average_Dew_Point_Temperature\", \"Average_Solar_Radiation\", \n",
    "                       \"Average_Rainfall\", \"Average_Snowfall\", \"Average_Bike_Count\")\n",
    "\n",
    "# Rank the results by Average_Bike_Count\n",
    "result <- result[order(-result$Average_Bike_Count), ]\n",
    "\n",
    "# Print the result\n",
    "print(result)"
   ]
  },
  {
   "cell_type": "markdown",
   "metadata": {},
   "source": [
    "## Task 10 - Total Bike Count and City Info for Seoul\n",
    "#### Use an implicit join across the WORLD_CITIES and the BIKE_SHARING_SYSTEMS tables to determine the total number of bikes avaialble in Seoul, plus the following city information about Seoul: CITY, COUNTRY, LAT, LON, POPULATION, in a single view.\n",
    "Notice that in this case, the CITY column will work for the WORLD_CITIES table, but in general you would have to use the CITY_ASCII column.\n"
   ]
  },
  {
   "cell_type": "markdown",
   "metadata": {},
   "source": [
    "### Solution 10\n"
   ]
  },
  {
   "cell_type": "code",
   "execution_count": 11,
   "metadata": {},
   "outputs": [
    {
     "name": "stdout",
     "output_type": "stream",
     "text": [
      "       CITY     COUNTRY     LAT LNG POPULATION\n",
      "21003 Seoul South Korea 37.5833 127   21794000\n"
     ]
    }
   ],
   "source": [
    "# Load necessary libraries\n",
    "# No libraries required for base R approach\n",
    "\n",
    "# Read the CSV files\n",
    "world_cities <- read.csv(\"raw_worldcities.csv\")\n",
    "bike_sharing_systems <- read.csv(\"bike_sharing_systems.csv\")\n",
    "\n",
    "# Merge the two datasets on the CITY column\n",
    "merged_data <- merge(world_cities, bike_sharing_systems, all.x = TRUE)\n",
    "\n",
    "# Filter the merged data for Seoul\n",
    "seoul_data <- merged_data[merged_data$CITY == \"Seoul\", ]\n",
    "\n",
    "# Calculate the total number of bikes available in Seoul\n",
    "total_bikes <- sum(seoul_data$TOTAL_BIKES, na.rm = TRUE)\n",
    "\n",
    "# Select relevant columns and add total bikes to the data\n",
    "result <- seoul_data[, c(\"CITY\", \"COUNTRY\", \"LAT\", \"LNG\", \"POPULATION\")]\n",
    "\n",
    "# Print the result\n",
    "print(result)"
   ]
  },
  {
   "cell_type": "markdown",
   "metadata": {},
   "source": [
    "## Task 11 - Find all city names and coordinates with comparable bike scale to Seoul's bike sharing system\n",
    "#### Find all cities with total bike counts between 15000 and 20000. Return the city and country names, plus the coordinates (LAT, LNG), population, and number of bicycles for each city.\n",
    "Later we will ask you to visualize these similar cities on leaflet, with some weather data.\n"
   ]
  },
  {
   "cell_type": "markdown",
   "metadata": {},
   "source": [
    "### Solution 11\n"
   ]
  },
  {
   "cell_type": "code",
   "execution_count": 12,
   "metadata": {},
   "outputs": [
    {
     "name": "stdout",
     "output_type": "stream",
     "text": [
      "        CITY     COUNTRY     LAT      LNG POPULATION BICYCLES\n",
      "32   Beijing       China 39.9050 116.3914   19433000    16000\n",
      "60    Ningbo       China 29.8750 121.5492    7639000    15000\n",
      "62  Shanghai       China 31.1667 121.4667   22120000    19165\n",
      "67   Weifang       China 36.7167 119.1000    9373000    20000\n",
      "76   Zhuzhou       China 27.8407 113.1469    3855609    20000\n",
      "271    Seoul South Korea 37.5833 127.0000   21794000    20000\n"
     ]
    }
   ],
   "source": [
    "# Read the CSV files\n",
    "world_cities <- read.csv(\"raw_worldcities.csv\")\n",
    "bike_sharing_systems <- read.csv(\"bike_sharing_systems.csv\")\n",
    "\n",
    "# Merge the dataframes\n",
    "df_joined <- merge(bike_sharing_systems, world_cities)\n",
    "\n",
    "# Select relevant columns\n",
    "result <- df_joined[, c(\"CITY\", \"COUNTRY\", \"LAT\", \"LNG\", \"POPULATION\", \"BICYCLES\")]\n",
    "\n",
    "\n",
    "# Filter rows based on 'BICYCLES' values\n",
    "data <- result[!is.na(result[\"BICYCLES\"]) & (df_joined[\"BICYCLES\"] >= 15000) & (result[\"BICYCLES\"] <= 20000), ]\n",
    "\n",
    "\n",
    "# Print the result\n",
    "print(data)"
   ]
  },
  {
   "cell_type": "code",
   "execution_count": 13,
   "metadata": {},
   "outputs": [
    {
     "ename": "ERROR",
     "evalue": "Error in close(conn): object 'conn' not found\n",
     "execution_count": 13,
     "output_type": "error",
     "traceback": [
      "Error in close(conn): object 'conn' not found\nTraceback:\n",
      "1. close(conn)"
     ]
    }
   ],
   "source": [
    "close(conn)"
   ]
  },
  {
   "cell_type": "markdown",
   "metadata": {},
   "source": [
    "## Author(s)\n",
    "\n",
    "<h4> Jeff Grossman </h4>\n",
    "\n",
    "## Contributor(s)\n",
    "\n",
    "<h4> Yan Luo, Rav Ahuja </h4>\n",
    "\n",
    "## Change log\n",
    "\n",
    "| Date       | Version | Changed by    | Change Description                                                                |\n",
    "| ---------- | ------- | ------------- | --------------------------------------------------------------------------------- |\n",
    "| 2021-05-04 | 0.2     | Jeff Grossman | Finalize                               |\n",
    "| 2021-04-22 | 0.2     | Jeff Grossman | Update as per peer review                               |\n",
    "| 2021-04-10 | 0.2     | Jeff Grossman | Add data sources and implicit joins                                  |\n",
    "| 2021-04-05 | 0.1     | Jeff Grossman | Start content creation                                                          |\n",
    "\n",
    "\n",
    "## <h3 align=\"center\"> © IBM Corporation 2021. All rights reserved. <h3/>\n"
   ]
  },
  {
   "cell_type": "code",
   "execution_count": null,
   "metadata": {},
   "outputs": [],
   "source": []
  }
 ],
 "metadata": {
  "kernelspec": {
   "display_name": "R",
   "language": "R",
   "name": "conda-env-r-r"
  },
  "language_info": {
   "codemirror_mode": "r",
   "file_extension": ".r",
   "mimetype": "text/x-r-source",
   "name": "R",
   "pygments_lexer": "r",
   "version": "3.5.1"
  }
 },
 "nbformat": 4,
 "nbformat_minor": 4
}
