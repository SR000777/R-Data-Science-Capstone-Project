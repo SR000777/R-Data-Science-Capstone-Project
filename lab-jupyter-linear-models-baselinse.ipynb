{
 "cells": [
  {
   "cell_type": "markdown",
   "metadata": {},
   "source": [
    "<center>\n",
    "<img src=\"https://cf-courses-data.s3.us.cloud-object-storage.appdomain.cloud/IBMDeveloperSkillsNetwork-RP0321EN-SkillsNetwork/labs/module_1/images/SN_web_lightmode.png\" width=\"300\"> \n",
    "</center>\n"
   ]
  },
  {
   "cell_type": "markdown",
   "metadata": {},
   "source": [
    "<h1>Predict Hourly Rented Bike Count using Basic Linear Regression Models</h1>\n",
    "\n",
    "Estimated time needed: **90** minutes\n"
   ]
  },
  {
   "cell_type": "markdown",
   "metadata": {},
   "source": [
    "## Lab Overview:\n",
    "\n",
    "Now that you have performed exploratory analysis on the bike sharing demand dataset and obtained some insights on the attributes, it's time to build predictive models to predict the hourly rented bike count using related weather and date information.\n",
    "\n",
    "In this lab, you will be asked to use `tidymodels` to build some baseline linear regression models:\n",
    "- **TASK: Split data into training and testing datasets**\n",
    "- **TASK: Build a linear regression model using only the weather variables**\n",
    "- **TASK: Build a linear regression model using both weather and date variables**\n",
    "- **TASK: Evaluate the models and identify important variables**\n",
    "\n",
    "Let's start!\n"
   ]
  },
  {
   "cell_type": "markdown",
   "metadata": {},
   "source": [
    "The tidyverse and the tidymodels packages can be used to produce high quality statistical and machine learning models. The Tidyverse library is a useful tool that provides various tools for data visualization, data manipulation, and read various datasets into a data frame; our Jupyter notebook platforms have a built-in Tidymodels, Tidyverse and rlang libraries, so we do not need to install these packages prior to loading library. However, if you decide to run this lab on your RStudio Desktop locally on your machine, you can remove the commented lines of code to install these packages before loading.\n"
   ]
  },
  {
   "cell_type": "code",
   "execution_count": 1,
   "metadata": {
    "tags": []
   },
   "outputs": [],
   "source": [
    "# It may take several minutes to install those libraries in Watson Studio\n",
    "# install.packages(\"rlang\")\n",
    "# install.packages(\"tidymodels\")"
   ]
  },
  {
   "cell_type": "code",
   "execution_count": 2,
   "metadata": {
    "tags": []
   },
   "outputs": [
    {
     "name": "stderr",
     "output_type": "stream",
     "text": [
      "── Attaching packages ────────────────────────────────────── tidymodels 0.1.0 ──\n",
      "✔ broom     0.5.6      ✔ recipes   0.1.12\n",
      "✔ dials     0.0.6      ✔ rsample   0.0.5 \n",
      "✔ dplyr     0.8.5      ✔ tibble    3.0.1 \n",
      "✔ ggplot2   3.3.0      ✔ tune      0.1.0 \n",
      "✔ infer     0.5.1      ✔ workflows 0.1.1 \n",
      "✔ parsnip   0.1.0      ✔ yardstick 0.0.6 \n",
      "✔ purrr     0.3.4      \n",
      "── Conflicts ───────────────────────────────────────── tidymodels_conflicts() ──\n",
      "✖ purrr::discard()  masks scales::discard()\n",
      "✖ dplyr::filter()   masks stats::filter()\n",
      "✖ dplyr::lag()      masks stats::lag()\n",
      "✖ ggplot2::margin() masks dials::margin()\n",
      "✖ recipes::step()   masks stats::step()\n",
      "── Attaching packages ─────────────────────────────────────── tidyverse 1.3.0 ──\n",
      "✔ readr   1.3.1     ✔ forcats 0.5.0\n",
      "✔ stringr 1.4.0     \n",
      "── Conflicts ────────────────────────────────────────── tidyverse_conflicts() ──\n",
      "✖ readr::col_factor() masks scales::col_factor()\n",
      "✖ purrr::discard()    masks scales::discard()\n",
      "✖ dplyr::filter()     masks stats::filter()\n",
      "✖ stringr::fixed()    masks recipes::fixed()\n",
      "✖ dplyr::lag()        masks stats::lag()\n",
      "✖ ggplot2::margin()   masks dials::margin()\n",
      "✖ readr::spec()       masks yardstick::spec()\n"
     ]
    }
   ],
   "source": [
    "library(\"tidymodels\")\n",
    "library(\"tidyverse\")\n",
    "library(\"stringr\")"
   ]
  },
  {
   "cell_type": "markdown",
   "metadata": {},
   "source": [
    "The `seoul_bike_sharing_converted_normalized.csv` will be our main dataset which has following variables:\n",
    "\n",
    "The response variable:\n",
    "- `RENTED BIKE COUNT`- Count of bikes rented at each hour\n",
    "\n",
    "Weather predictor variables:\n",
    "- `TEMPERATURE` - Temperature in Celsius\n",
    "- `HUMIDITY` - Unit is `%`\n",
    "- `WIND_SPEED` - Unit is `m/s`\n",
    "- `VISIBILITY` - Multiplied by 10m\n",
    "- `DEW_POINT_TEMPERATURE` - The temperature to which the air would have to cool down in order to reach saturation, unit is Celsius\n",
    "- `SOLAR_RADIATION` - MJ/m2\n",
    "- `RAINFALL` - mm\n",
    "- `SNOWFALL` - cm\n",
    "\n",
    "Date/time predictor variables:\n",
    "- `DATE` - Year-month-day\n",
    "- `HOUR`- Hour of he day\n",
    "- `FUNCTIONAL DAY` - NoFunc(Non Functional Hours), Fun(Functional hours)\n",
    "- `HOLIDAY` - Holiday/No holiday\n",
    "- `SEASONS` - Winter, Spring, Summer, Autumn\n"
   ]
  },
  {
   "cell_type": "markdown",
   "metadata": {},
   "source": [
    "Let's read the dataset as a dataframe first:\n"
   ]
  },
  {
   "cell_type": "code",
   "execution_count": 3,
   "metadata": {
    "tags": []
   },
   "outputs": [
    {
     "name": "stderr",
     "output_type": "stream",
     "text": [
      "Parsed with column specification:\n",
      "cols(\n",
      "  .default = col_double(),\n",
      "  DATE = col_character(),\n",
      "  FUNCTIONING_DAY = col_character()\n",
      ")\n",
      "See spec(...) for full column specifications.\n"
     ]
    },
    {
     "data": {
      "text/plain": [
       "cols(\n",
       "  DATE = col_character(),\n",
       "  RENTED_BIKE_COUNT = col_double(),\n",
       "  TEMPERATURE = col_double(),\n",
       "  HUMIDITY = col_double(),\n",
       "  WIND_SPEED = col_double(),\n",
       "  VISIBILITY = col_double(),\n",
       "  DEW_POINT_TEMPERATURE = col_double(),\n",
       "  SOLAR_RADIATION = col_double(),\n",
       "  RAINFALL = col_double(),\n",
       "  SNOWFALL = col_double(),\n",
       "  FUNCTIONING_DAY = col_character(),\n",
       "  `0` = col_double(),\n",
       "  `1` = col_double(),\n",
       "  `10` = col_double(),\n",
       "  `11` = col_double(),\n",
       "  `12` = col_double(),\n",
       "  `13` = col_double(),\n",
       "  `14` = col_double(),\n",
       "  `15` = col_double(),\n",
       "  `16` = col_double(),\n",
       "  `17` = col_double(),\n",
       "  `18` = col_double(),\n",
       "  `19` = col_double(),\n",
       "  `2` = col_double(),\n",
       "  `20` = col_double(),\n",
       "  `21` = col_double(),\n",
       "  `22` = col_double(),\n",
       "  `23` = col_double(),\n",
       "  `3` = col_double(),\n",
       "  `4` = col_double(),\n",
       "  `5` = col_double(),\n",
       "  `6` = col_double(),\n",
       "  `7` = col_double(),\n",
       "  `8` = col_double(),\n",
       "  `9` = col_double(),\n",
       "  AUTUMN = col_double(),\n",
       "  SPRING = col_double(),\n",
       "  SUMMER = col_double(),\n",
       "  WINTER = col_double(),\n",
       "  HOLIDAY = col_double(),\n",
       "  NO_HOLIDAY = col_double()\n",
       ")"
      ]
     },
     "metadata": {},
     "output_type": "display_data"
    }
   ],
   "source": [
    "# Dataset URL\n",
    "dataset_url <- \"https://cf-courses-data.s3.us.cloud-object-storage.appdomain.cloud/IBMDeveloperSkillsNetwork-RP0321EN-SkillsNetwork/labs/datasets/seoul_bike_sharing_converted_normalized.csv\"\n",
    "bike_sharing_df <- read_csv(dataset_url)\n",
    "spec(bike_sharing_df)"
   ]
  },
  {
   "cell_type": "markdown",
   "metadata": {},
   "source": [
    "We won't be using the `DATE` column, because 'as is', it basically acts like an data entry index. (However, given more time, we could use the `DATE` colum to create a 'day of week' or 'isWeekend' column, which we might expect has an affect on preferred bike rental times.) We also do not need the `FUNCTIONAL DAY` column because it only has one distinct value remaining (`YES`) after missing value processing.\n"
   ]
  },
  {
   "cell_type": "code",
   "execution_count": 4,
   "metadata": {
    "tags": []
   },
   "outputs": [],
   "source": [
    "bike_sharing_df <- bike_sharing_df %>% \n",
    "                   select(-DATE, -FUNCTIONING_DAY)"
   ]
  },
  {
   "cell_type": "markdown",
   "metadata": {},
   "source": [
    "# TASK: Split training and testing data\n"
   ]
  },
  {
   "cell_type": "markdown",
   "metadata": {},
   "source": [
    "First, we need to split the full dataset into training and testing datasets.\n",
    "\n",
    "The training dataset will be used for fitting regression models, and the testing dataset will be used to evaluate the trained models.\n"
   ]
  },
  {
   "cell_type": "markdown",
   "metadata": {},
   "source": [
    "_TODO:_ Use the `initial_split()`, `training()`, and `testing()` functions to generate a training dataset consisting of 75% of the original dataset, and a testing dataset using the remaining 25%. \n"
   ]
  },
  {
   "cell_type": "code",
   "execution_count": 5,
   "metadata": {
    "tags": []
   },
   "outputs": [],
   "source": [
    "# Use the initial_split(), training(), and testing() functions to split the dataset\n",
    "# With seed 1234\n",
    "set.seed(1234)\n",
    "# prop = 3/4\n",
    "bike_sharing_split <- initial_split(bike_sharing_df ,prop = 3/4)\n",
    "# train_data \n",
    "train_data <- training(bike_sharing_split )\n",
    "# test_data\n",
    "test_data <- testing(bike_sharing_split )"
   ]
  },
  {
   "cell_type": "markdown",
   "metadata": {},
   "source": [
    "# TASK: Build a linear regression model using weather variables only\n"
   ]
  },
  {
   "cell_type": "markdown",
   "metadata": {},
   "source": [
    "As you could imagine, weather conditions may affect people's bike renting decisions. For example, on a cold and rainy day, you may choose alternate transportation such as a bus or taxi.  While on a nice sunny day, you may want to rent a bike for a short-distance travel.\n"
   ]
  },
  {
   "cell_type": "markdown",
   "metadata": {},
   "source": [
    "Thus, can we predict a city's bike-sharing demand based on its local weather information? Let's try to build a regression model to do that.\n"
   ]
  },
  {
   "cell_type": "markdown",
   "metadata": {},
   "source": [
    "_TODO:_ Build a linear regression model called `lm_model_weather` using the following variables:\n",
    "\n",
    "- `TEMPERATURE` - Temperature in Celsius\n",
    "- `HUMIDITY` - Unit is `%`\n",
    "- `WIND_SPEED` - Unit is `m/s`\n",
    "- `VISIBILITY` - Multiplied by 10m\n",
    "- `DEW_POINT_TEMPERATURE` - The temperature to which the air would have to cool down in order to reach saturation, unit is Celsius\n",
    "- `SOLAR_RADIATION` - MJ/m2\n",
    "- `RAINFALL` - mm\n",
    "- `SNOWFALL` - cm\n"
   ]
  },
  {
   "cell_type": "markdown",
   "metadata": {},
   "source": [
    "Define a linear regression model specification.\n"
   ]
  },
  {
   "cell_type": "code",
   "execution_count": 6,
   "metadata": {
    "tags": []
   },
   "outputs": [],
   "source": [
    "# Use `linear_reg()` with engine `lm` and mode `regression`\n",
    "lm_spec <- linear_reg() %>% set_engine(\"lm\") %>% set_mode(\"regression\")"
   ]
  },
  {
   "cell_type": "markdown",
   "metadata": {},
   "source": [
    "Fit a model with the response variable `RENTED_BIKE_COUNT` and predictor variables `TEMPERATURE + HUMIDITY + WIND_SPEED + VISIBILITY + DEW_POINT_TEMPERATURE + SOLAR_RADIATION + RAINFALL + SNOWFALL`\n"
   ]
  },
  {
   "cell_type": "code",
   "execution_count": 7,
   "metadata": {
    "tags": []
   },
   "outputs": [],
   "source": [
    "# Fit the model called `lm_model_weather`\n",
    "# RENTED_BIKE_COUNT ~ TEMPERATURE + HUMIDITY + WIND_SPEED + VISIBILITY + DEW_POINT_TEMPERATURE + SOLAR_RADIATION + RAINFALL + SNOWFALL,  with the training data\n",
    "lm_model_weather <- fit(lm_spec, RENTED_BIKE_COUNT ~ TEMPERATURE + HUMIDITY + WIND_SPEED +\n",
    "                        VISIBILITY + DEW_POINT_TEMPERATURE + SOLAR_RADIATION + RAINFALL + SNOWFALL, data = train_data)"
   ]
  },
  {
   "cell_type": "markdown",
   "metadata": {},
   "source": [
    "Print the fit summary for the `lm_model_weather` model.\n"
   ]
  },
  {
   "cell_type": "code",
   "execution_count": 8,
   "metadata": {
    "tags": []
   },
   "outputs": [
    {
     "name": "stdout",
     "output_type": "stream",
     "text": [
      "\n",
      "Call:\n",
      "stats::lm(formula = formula, data = data)\n",
      "\n",
      "Coefficients:\n",
      "          (Intercept)            TEMPERATURE               HUMIDITY  \n",
      "              147.647               2452.112               -895.830  \n",
      "           WIND_SPEED             VISIBILITY  DEW_POINT_TEMPERATURE  \n",
      "              402.183                  5.356               -368.982  \n",
      "      SOLAR_RADIATION               RAINFALL               SNOWFALL  \n",
      "             -435.703              -1771.467                354.761  \n",
      "\n"
     ]
    }
   ],
   "source": [
    "print(lm_model_weather$fit)"
   ]
  },
  {
   "cell_type": "markdown",
   "metadata": {},
   "source": [
    "You should see the model details such as formula, residuals, and coefficients.\n"
   ]
  },
  {
   "cell_type": "markdown",
   "metadata": {},
   "source": [
    "# TASK: Build a linear regression model using all variables\n"
   ]
  },
  {
   "cell_type": "markdown",
   "metadata": {},
   "source": [
    "In addition to weather, there could be other factors that may affect bike rental demand, such as the time of a day or if today is a holiday or not.\n"
   ]
  },
  {
   "cell_type": "markdown",
   "metadata": {},
   "source": [
    "Next, let's build a linear regression model using all variables (weather + date/time) in this task.\n"
   ]
  },
  {
   "cell_type": "markdown",
   "metadata": {},
   "source": [
    "_TODO:_ Build a linear regression model called `lm_model_all` using all variables `RENTED_BIKE_COUNT ~ .`\n"
   ]
  },
  {
   "cell_type": "code",
   "execution_count": 9,
   "metadata": {
    "tags": []
   },
   "outputs": [],
   "source": [
    "# Fit the model called `lm_model_all`\n",
    "# `RENTED_BIKE_COUNT ~ .` means use all other variables except for the response variable\n",
    "lm_model_all <- train_data %>% fit(lm_spec, RENTED_BIKE_COUNT ~ ., data = .)"
   ]
  },
  {
   "cell_type": "markdown",
   "metadata": {},
   "source": [
    "Print the fit summary for `lm_model_all`.\n"
   ]
  },
  {
   "cell_type": "code",
   "execution_count": 10,
   "metadata": {
    "tags": []
   },
   "outputs": [
    {
     "data": {
      "text/plain": [
       "\n",
       "Call:\n",
       "stats::lm(formula = formula, data = data)\n",
       "\n",
       "Residuals:\n",
       "     Min       1Q   Median       3Q      Max \n",
       "-1390.19  -220.95    -9.08   202.68  1774.61 \n",
       "\n",
       "Coefficients: (3 not defined because of singularities)\n",
       "                       Estimate Std. Error t value Pr(>|t|)    \n",
       "(Intercept)             216.584     50.673   4.274 1.95e-05 ***\n",
       "TEMPERATURE             810.604    209.034   3.878 0.000106 ***\n",
       "HUMIDITY               -920.587     97.243  -9.467  < 2e-16 ***\n",
       "WIND_SPEED               -9.313     40.268  -0.231 0.817101    \n",
       "VISIBILITY               24.368     20.235   1.204 0.228533    \n",
       "DEW_POINT_TEMPERATURE   632.384    217.478   2.908 0.003652 ** \n",
       "SOLAR_RADIATION         249.752     41.347   6.040 1.62e-09 ***\n",
       "RAINFALL              -1982.940    143.642 -13.805  < 2e-16 ***\n",
       "SNOWFALL                232.451    104.609   2.222 0.026312 *  \n",
       "`0`                     -12.500     34.010  -0.368 0.713234    \n",
       "`1`                    -125.701     34.579  -3.635 0.000280 ***\n",
       "`10`                   -222.233     33.316  -6.671 2.76e-11 ***\n",
       "`11`                   -231.428     33.981  -6.811 1.06e-11 ***\n",
       "`12`                   -194.605     34.559  -5.631 1.87e-08 ***\n",
       "`13`                   -189.528     35.199  -5.385 7.53e-08 ***\n",
       "`14`                   -183.060     35.246  -5.194 2.12e-07 ***\n",
       "`15`                   -103.127     35.096  -2.938 0.003311 ** \n",
       "`16`                     43.598     34.230   1.274 0.202829    \n",
       "`17`                    306.732     34.272   8.950  < 2e-16 ***\n",
       "`18`                    782.842     34.512  22.683  < 2e-16 ***\n",
       "`19`                    519.456     34.541  15.039  < 2e-16 ***\n",
       "`2`                    -259.946     34.575  -7.518 6.32e-14 ***\n",
       "`20`                    394.635     34.729  11.363  < 2e-16 ***\n",
       "`21`                    430.185     34.337  12.528  < 2e-16 ***\n",
       "`22`                    322.664     33.935   9.508  < 2e-16 ***\n",
       "`23`                     90.181     33.974   2.654 0.007965 ** \n",
       "`3`                    -327.245     33.890  -9.656  < 2e-16 ***\n",
       "`4`                    -389.558     34.033 -11.447  < 2e-16 ***\n",
       "`5`                    -379.055     33.818 -11.209  < 2e-16 ***\n",
       "`6`                    -216.689     34.166  -6.342 2.42e-10 ***\n",
       "`7`                     110.492     33.930   3.256 0.001134 ** \n",
       "`8`                     502.354     33.506  14.993  < 2e-16 ***\n",
       "`9`                          NA         NA      NA       NA    \n",
       "AUTUMN                  357.978     19.997  17.902  < 2e-16 ***\n",
       "SPRING                  194.421     19.218  10.117  < 2e-16 ***\n",
       "SUMMER                  172.901     29.043   5.953 2.77e-09 ***\n",
       "WINTER                       NA         NA      NA       NA    \n",
       "HOLIDAY                -129.167     22.447  -5.754 9.11e-09 ***\n",
       "NO_HOLIDAY                   NA         NA      NA       NA    \n",
       "---\n",
       "Signif. codes:  0 ‘***’ 0.001 ‘**’ 0.01 ‘*’ 0.05 ‘.’ 0.1 ‘ ’ 1\n",
       "\n",
       "Residual standard error: 376.4 on 6313 degrees of freedom\n",
       "Multiple R-squared:  0.6622,\tAdjusted R-squared:  0.6603 \n",
       "F-statistic: 353.5 on 35 and 6313 DF,  p-value: < 2.2e-16\n"
      ]
     },
     "metadata": {},
     "output_type": "display_data"
    }
   ],
   "source": [
    "summary(lm_model_all$fit)"
   ]
  },
  {
   "cell_type": "markdown",
   "metadata": {},
   "source": [
    "Now you have built two basic linear regression models with different predictor variables, let's evaluate which model has better performance,\n"
   ]
  },
  {
   "cell_type": "markdown",
   "metadata": {},
   "source": [
    "# TASK: Model evaluation and identification of important variables\n"
   ]
  },
  {
   "cell_type": "markdown",
   "metadata": {},
   "source": [
    "Now that you have built two regression models, `lm_model_weather` and `lm_model_all`, with different predictor variables, you need to compare their performance to see which one is better.\n"
   ]
  },
  {
   "cell_type": "markdown",
   "metadata": {},
   "source": [
    "In this project, you will be asked to use very important metrics that are often used in Statistics to determine the performance of a model:\n",
    "\n",
    "1.  R^2 / R-squared \n",
    "2.  Root Mean Squared Error (RMSE)\n",
    "\n",
    "**R-squared**\n",
    "\n",
    "<p>R squared, also known as the coefficient of determination, is a measure to indicate how close the data is to the fitted regression line. The value of R-squared is the percentage of variation of the response variable (y) that is explained by a linear model.</p>\n",
    "\n",
    "**Root Mean Squared Error (RMSE)**\n",
    "$$\n",
    "RMSE = \\sqrt{MSE}\n",
    "$$\n",
    "\n",
    "As you know, the Mean Squared Error measures the average of the squares of errors, where 'error' is the difference between the actual value ($y$) and the estimated value ($ŷ$). \n",
    "Another metric that is related to MSE is **Root Mean Squared Error (RMSE)** and is simply the square root of MSE.\n"
   ]
  },
  {
   "cell_type": "markdown",
   "metadata": {},
   "source": [
    "We first need to test the `lm_model_weather` and `lm_model_all` models against the test dataset `test_data`, and generate `RENTED_BIKE_COUNT` prediction results.\n"
   ]
  },
  {
   "cell_type": "markdown",
   "metadata": {},
   "source": [
    "_TODO:_ Make predictions on the testing dataset using both `lm_model_weather` and `lm_model_all` models\n"
   ]
  },
  {
   "cell_type": "code",
   "execution_count": 11,
   "metadata": {
    "tags": []
   },
   "outputs": [
    {
     "name": "stderr",
     "output_type": "stream",
     "text": [
      "Warning message in predict.lm(object = object$fit, newdata = new_data, type = \"response\"):\n",
      "“prediction from a rank-deficient fit may be misleading”"
     ]
    },
    {
     "data": {
      "text/html": [
       "<table>\n",
       "<caption>A tibble: 6 × 2</caption>\n",
       "<thead>\n",
       "\t<tr><th scope=col>.pred</th><th scope=col>truth</th></tr>\n",
       "\t<tr><th scope=col>&lt;dbl&gt;</th><th scope=col>&lt;dbl&gt;</th></tr>\n",
       "</thead>\n",
       "<tbody>\n",
       "\t<tr><td>274.3531</td><td>173</td></tr>\n",
       "\t<tr><td>378.1757</td><td> 78</td></tr>\n",
       "\t<tr><td>312.9917</td><td>181</td></tr>\n",
       "\t<tr><td>336.7766</td><td>490</td></tr>\n",
       "\t<tr><td>631.8560</td><td>449</td></tr>\n",
       "\t<tr><td>638.0489</td><td>451</td></tr>\n",
       "</tbody>\n",
       "</table>\n"
      ],
      "text/latex": [
       "A tibble: 6 × 2\n",
       "\\begin{tabular}{ll}\n",
       " .pred & truth\\\\\n",
       " <dbl> & <dbl>\\\\\n",
       "\\hline\n",
       "\t 274.3531 & 173\\\\\n",
       "\t 378.1757 &  78\\\\\n",
       "\t 312.9917 & 181\\\\\n",
       "\t 336.7766 & 490\\\\\n",
       "\t 631.8560 & 449\\\\\n",
       "\t 638.0489 & 451\\\\\n",
       "\\end{tabular}\n"
      ],
      "text/markdown": [
       "\n",
       "A tibble: 6 × 2\n",
       "\n",
       "| .pred &lt;dbl&gt; | truth &lt;dbl&gt; |\n",
       "|---|---|\n",
       "| 274.3531 | 173 |\n",
       "| 378.1757 |  78 |\n",
       "| 312.9917 | 181 |\n",
       "| 336.7766 | 490 |\n",
       "| 631.8560 | 449 |\n",
       "| 638.0489 | 451 |\n",
       "\n"
      ],
      "text/plain": [
       "  .pred    truth\n",
       "1 274.3531 173  \n",
       "2 378.1757  78  \n",
       "3 312.9917 181  \n",
       "4 336.7766 490  \n",
       "5 631.8560 449  \n",
       "6 638.0489 451  "
      ]
     },
     "metadata": {},
     "output_type": "display_data"
    },
    {
     "data": {
      "text/html": [
       "<table>\n",
       "<caption>A tibble: 6 × 2</caption>\n",
       "<thead>\n",
       "\t<tr><th scope=col>.pred</th><th scope=col>truth</th></tr>\n",
       "\t<tr><th scope=col>&lt;dbl&gt;</th><th scope=col>&lt;dbl&gt;</th></tr>\n",
       "</thead>\n",
       "<tbody>\n",
       "\t<tr><td> -78.24847</td><td>173</td></tr>\n",
       "\t<tr><td>-191.16239</td><td> 78</td></tr>\n",
       "\t<tr><td> -25.99046</td><td>181</td></tr>\n",
       "\t<tr><td> 251.97376</td><td>490</td></tr>\n",
       "\t<tr><td> 330.23653</td><td>449</td></tr>\n",
       "\t<tr><td> 347.24700</td><td>451</td></tr>\n",
       "</tbody>\n",
       "</table>\n"
      ],
      "text/latex": [
       "A tibble: 6 × 2\n",
       "\\begin{tabular}{ll}\n",
       " .pred & truth\\\\\n",
       " <dbl> & <dbl>\\\\\n",
       "\\hline\n",
       "\t  -78.24847 & 173\\\\\n",
       "\t -191.16239 &  78\\\\\n",
       "\t  -25.99046 & 181\\\\\n",
       "\t  251.97376 & 490\\\\\n",
       "\t  330.23653 & 449\\\\\n",
       "\t  347.24700 & 451\\\\\n",
       "\\end{tabular}\n"
      ],
      "text/markdown": [
       "\n",
       "A tibble: 6 × 2\n",
       "\n",
       "| .pred &lt;dbl&gt; | truth &lt;dbl&gt; |\n",
       "|---|---|\n",
       "|  -78.24847 | 173 |\n",
       "| -191.16239 |  78 |\n",
       "|  -25.99046 | 181 |\n",
       "|  251.97376 | 490 |\n",
       "|  330.23653 | 449 |\n",
       "|  347.24700 | 451 |\n",
       "\n"
      ],
      "text/plain": [
       "  .pred      truth\n",
       "1  -78.24847 173  \n",
       "2 -191.16239  78  \n",
       "3  -25.99046 181  \n",
       "4  251.97376 490  \n",
       "5  330.23653 449  \n",
       "6  347.24700 451  "
      ]
     },
     "metadata": {},
     "output_type": "display_data"
    }
   ],
   "source": [
    "# Use predict() function to generate test results for lm_model_weather and lm_model_all\n",
    "result_model_weather <- lm_model_weather %>% predict(new_data = test_data) %>% mutate(truth = test_data$RENTED_BIKE_COUNT)\n",
    "result_model_all <- lm_model_all %>% predict(new_data = test_data) %>% mutate(truth = test_data$RENTED_BIKE_COUNT)\n",
    "# and generate two test results dataframe with a truth column:\n",
    "\n",
    "# test_results_weather for lm_model_weather model\n",
    "head(result_model_weather)\n",
    "# test_results_all for lm_model_all\n",
    "head(result_model_all)"
   ]
  },
  {
   "cell_type": "markdown",
   "metadata": {},
   "source": [
    "NOTE: if you happen to see a warning like : `prediction from a rank-deficient fit may be misleading`, it may be casued by collinearity in the predictor variables. Collinearity means that one predictor variable can be predicted from other predictor variables to some degree. For example, `RAINFALL` could be predicted by `HUMIDITY`.\n",
    "\n",
    "But dont worry, you will address `glmnet` models (Lasso and Elastic-Net Regularized Generalized Linear Models) instead of regular `regression` models to solve this issue and futher improve the model performance.\n"
   ]
  },
  {
   "cell_type": "markdown",
   "metadata": {},
   "source": [
    "Next, let's calculate and print the R-squared and RMSE for the two test results\n"
   ]
  },
  {
   "cell_type": "markdown",
   "metadata": {},
   "source": [
    "_TODO:_ Use `rsq()` and `rmse()` functions to calculate R-squared and RMSE metrics for the two test results\n"
   ]
  },
  {
   "cell_type": "code",
   "execution_count": 12,
   "metadata": {
    "tags": []
   },
   "outputs": [
    {
     "data": {
      "text/html": [
       "<table>\n",
       "<caption>A tibble: 1 × 3</caption>\n",
       "<thead>\n",
       "\t<tr><th scope=col>rsq_weather</th><th scope=col>.estimator</th><th scope=col>.estimate</th></tr>\n",
       "\t<tr><th scope=col>&lt;chr&gt;</th><th scope=col>&lt;chr&gt;</th><th scope=col>&lt;dbl&gt;</th></tr>\n",
       "</thead>\n",
       "<tbody>\n",
       "\t<tr><td>rsq</td><td>standard</td><td>0.4458692</td></tr>\n",
       "</tbody>\n",
       "</table>\n"
      ],
      "text/latex": [
       "A tibble: 1 × 3\n",
       "\\begin{tabular}{lll}\n",
       " rsq\\_weather & .estimator & .estimate\\\\\n",
       " <chr> & <chr> & <dbl>\\\\\n",
       "\\hline\n",
       "\t rsq & standard & 0.4458692\\\\\n",
       "\\end{tabular}\n"
      ],
      "text/markdown": [
       "\n",
       "A tibble: 1 × 3\n",
       "\n",
       "| rsq_weather &lt;chr&gt; | .estimator &lt;chr&gt; | .estimate &lt;dbl&gt; |\n",
       "|---|---|---|\n",
       "| rsq | standard | 0.4458692 |\n",
       "\n"
      ],
      "text/plain": [
       "  rsq_weather .estimator .estimate\n",
       "1 rsq         standard   0.4458692"
      ]
     },
     "metadata": {},
     "output_type": "display_data"
    },
    {
     "data": {
      "text/html": [
       "<table>\n",
       "<caption>A tibble: 1 × 3</caption>\n",
       "<thead>\n",
       "\t<tr><th scope=col>rsq_all</th><th scope=col>.estimator</th><th scope=col>.estimate</th></tr>\n",
       "\t<tr><th scope=col>&lt;chr&gt;</th><th scope=col>&lt;chr&gt;</th><th scope=col>&lt;dbl&gt;</th></tr>\n",
       "</thead>\n",
       "<tbody>\n",
       "\t<tr><td>rsq</td><td>standard</td><td>0.6592615</td></tr>\n",
       "</tbody>\n",
       "</table>\n"
      ],
      "text/latex": [
       "A tibble: 1 × 3\n",
       "\\begin{tabular}{lll}\n",
       " rsq\\_all & .estimator & .estimate\\\\\n",
       " <chr> & <chr> & <dbl>\\\\\n",
       "\\hline\n",
       "\t rsq & standard & 0.6592615\\\\\n",
       "\\end{tabular}\n"
      ],
      "text/markdown": [
       "\n",
       "A tibble: 1 × 3\n",
       "\n",
       "| rsq_all &lt;chr&gt; | .estimator &lt;chr&gt; | .estimate &lt;dbl&gt; |\n",
       "|---|---|---|\n",
       "| rsq | standard | 0.6592615 |\n",
       "\n"
      ],
      "text/plain": [
       "  rsq_all .estimator .estimate\n",
       "1 rsq     standard   0.6592615"
      ]
     },
     "metadata": {},
     "output_type": "display_data"
    },
    {
     "data": {
      "text/html": [
       "<table>\n",
       "<caption>A tibble: 1 × 3</caption>\n",
       "<thead>\n",
       "\t<tr><th scope=col>rmse_weather</th><th scope=col>.estimator</th><th scope=col>.estimate</th></tr>\n",
       "\t<tr><th scope=col>&lt;chr&gt;</th><th scope=col>&lt;chr&gt;</th><th scope=col>&lt;dbl&gt;</th></tr>\n",
       "</thead>\n",
       "<tbody>\n",
       "\t<tr><td>rmse</td><td>standard</td><td>470.4436</td></tr>\n",
       "</tbody>\n",
       "</table>\n"
      ],
      "text/latex": [
       "A tibble: 1 × 3\n",
       "\\begin{tabular}{lll}\n",
       " rmse\\_weather & .estimator & .estimate\\\\\n",
       " <chr> & <chr> & <dbl>\\\\\n",
       "\\hline\n",
       "\t rmse & standard & 470.4436\\\\\n",
       "\\end{tabular}\n"
      ],
      "text/markdown": [
       "\n",
       "A tibble: 1 × 3\n",
       "\n",
       "| rmse_weather &lt;chr&gt; | .estimator &lt;chr&gt; | .estimate &lt;dbl&gt; |\n",
       "|---|---|---|\n",
       "| rmse | standard | 470.4436 |\n",
       "\n"
      ],
      "text/plain": [
       "  rmse_weather .estimator .estimate\n",
       "1 rmse         standard   470.4436 "
      ]
     },
     "metadata": {},
     "output_type": "display_data"
    },
    {
     "data": {
      "text/html": [
       "<table>\n",
       "<caption>A tibble: 1 × 3</caption>\n",
       "<thead>\n",
       "\t<tr><th scope=col>rmse_all</th><th scope=col>.estimator</th><th scope=col>.estimate</th></tr>\n",
       "\t<tr><th scope=col>&lt;chr&gt;</th><th scope=col>&lt;chr&gt;</th><th scope=col>&lt;dbl&gt;</th></tr>\n",
       "</thead>\n",
       "<tbody>\n",
       "\t<tr><td>rmse</td><td>standard</td><td>369.1709</td></tr>\n",
       "</tbody>\n",
       "</table>\n"
      ],
      "text/latex": [
       "A tibble: 1 × 3\n",
       "\\begin{tabular}{lll}\n",
       " rmse\\_all & .estimator & .estimate\\\\\n",
       " <chr> & <chr> & <dbl>\\\\\n",
       "\\hline\n",
       "\t rmse & standard & 369.1709\\\\\n",
       "\\end{tabular}\n"
      ],
      "text/markdown": [
       "\n",
       "A tibble: 1 × 3\n",
       "\n",
       "| rmse_all &lt;chr&gt; | .estimator &lt;chr&gt; | .estimate &lt;dbl&gt; |\n",
       "|---|---|---|\n",
       "| rmse | standard | 369.1709 |\n",
       "\n"
      ],
      "text/plain": [
       "  rmse_all .estimator .estimate\n",
       "1 rmse     standard   369.1709 "
      ]
     },
     "metadata": {},
     "output_type": "display_data"
    }
   ],
   "source": [
    "# rsq_weather <- rsq(...)\n",
    "# rsq_all <- rsq(...)\n",
    "rsq_weather <- rsq(result_model_weather, truth = truth, estimate = .pred)\n",
    "rsq_weather %>% rename (rsq_weather = .metric)\n",
    "rsq_all <- rsq(result_model_all, truth = truth, estimate = .pred)\n",
    "rsq_all %>% rename(rsq_all = .metric)\n",
    "# rmse_weather <- rmse(...)\n",
    "# rmse_all <- rmse(...)\n",
    "rmse_weather <- rmse(result_model_weather, truth = truth, estimate = .pred)\n",
    "rmse_weather %>% rename(rmse_weather = .metric)\n",
    "rmse_all <- rmse(result_model_all, truth = truth, estimate = .pred)\n",
    "rmse_all %>% rename(rmse_all = .metric)"
   ]
  },
  {
   "cell_type": "markdown",
   "metadata": {},
   "source": [
    "From these tables, you should find that the test results from `lm_model_all` are much better. It means that using both weather and datetime variables in the model generates better prediction results.\n"
   ]
  },
  {
   "cell_type": "markdown",
   "metadata": {},
   "source": [
    "Since `lm_model_all` has many predictor variables, let's check which predictor variables have larger coefficients. Variables with larger coefficients in the model means they attribute more in the prediction of `RENTED_BIKE_COUNT`. In addition, since all predictor variables are normalized to the same scale, 0 to 1, we thus can compare their coefficients directly.\n"
   ]
  },
  {
   "cell_type": "markdown",
   "metadata": {},
   "source": [
    "You could try building another regression model using the non-normalized `seoul_bike_sharing_converted.csv` dataset, and you would find that the coefficients are much different.\n"
   ]
  },
  {
   "cell_type": "markdown",
   "metadata": {},
   "source": [
    "First let's print all coefficients:\n"
   ]
  },
  {
   "cell_type": "code",
   "execution_count": 13,
   "metadata": {
    "tags": []
   },
   "outputs": [
    {
     "name": "stderr",
     "output_type": "stream",
     "text": [
      "Warning message:\n",
      "“'tidy.numeric' is deprecated.\n",
      "See help(\"Deprecated\")”Warning message:\n",
      "“`data_frame()` is deprecated as of tibble 1.1.0.\n",
      "Please use `tibble()` instead.\n",
      "This warning is displayed once every 8 hours.\n",
      "Call `lifecycle::last_warnings()` to see where this warning was generated.”"
     ]
    },
    {
     "data": {
      "text/html": [
       "<table>\n",
       "<caption>A tibble: 39 × 2</caption>\n",
       "<thead>\n",
       "\t<tr><th scope=col>Var</th><th scope=col>Coef</th></tr>\n",
       "\t<tr><th scope=col>&lt;chr&gt;</th><th scope=col>&lt;dbl&gt;</th></tr>\n",
       "</thead>\n",
       "<tbody>\n",
       "\t<tr><td>(Intercept)          </td><td>  216.584059</td></tr>\n",
       "\t<tr><td>TEMPERATURE          </td><td>  810.603987</td></tr>\n",
       "\t<tr><td>HUMIDITY             </td><td> -920.586909</td></tr>\n",
       "\t<tr><td>WIND_SPEED           </td><td>   -9.313319</td></tr>\n",
       "\t<tr><td>VISIBILITY           </td><td>   24.368049</td></tr>\n",
       "\t<tr><td>DEW_POINT_TEMPERATURE</td><td>  632.384298</td></tr>\n",
       "\t<tr><td>SOLAR_RADIATION      </td><td>  249.752454</td></tr>\n",
       "\t<tr><td>RAINFALL             </td><td>-1982.940423</td></tr>\n",
       "\t<tr><td>SNOWFALL             </td><td>  232.450790</td></tr>\n",
       "\t<tr><td>`0`                  </td><td>  -12.499804</td></tr>\n",
       "\t<tr><td>`1`                  </td><td> -125.701499</td></tr>\n",
       "\t<tr><td>`10`                 </td><td> -222.233262</td></tr>\n",
       "\t<tr><td>`11`                 </td><td> -231.428411</td></tr>\n",
       "\t<tr><td>`12`                 </td><td> -194.605041</td></tr>\n",
       "\t<tr><td>`13`                 </td><td> -189.528426</td></tr>\n",
       "\t<tr><td>`14`                 </td><td> -183.060291</td></tr>\n",
       "\t<tr><td>`15`                 </td><td> -103.126885</td></tr>\n",
       "\t<tr><td>`16`                 </td><td>   43.597895</td></tr>\n",
       "\t<tr><td>`17`                 </td><td>  306.732435</td></tr>\n",
       "\t<tr><td>`18`                 </td><td>  782.841507</td></tr>\n",
       "\t<tr><td>`19`                 </td><td>  519.455508</td></tr>\n",
       "\t<tr><td>`2`                  </td><td> -259.946174</td></tr>\n",
       "\t<tr><td>`20`                 </td><td>  394.634676</td></tr>\n",
       "\t<tr><td>`21`                 </td><td>  430.185215</td></tr>\n",
       "\t<tr><td>`22`                 </td><td>  322.663949</td></tr>\n",
       "\t<tr><td>`23`                 </td><td>   90.180803</td></tr>\n",
       "\t<tr><td>`3`                  </td><td> -327.244955</td></tr>\n",
       "\t<tr><td>`4`                  </td><td> -389.558392</td></tr>\n",
       "\t<tr><td>`5`                  </td><td> -379.055209</td></tr>\n",
       "\t<tr><td>`6`                  </td><td> -216.689105</td></tr>\n",
       "\t<tr><td>`7`                  </td><td>  110.491959</td></tr>\n",
       "\t<tr><td>`8`                  </td><td>  502.353808</td></tr>\n",
       "\t<tr><td>`9`                  </td><td>          NA</td></tr>\n",
       "\t<tr><td>AUTUMN               </td><td>  357.978265</td></tr>\n",
       "\t<tr><td>SPRING               </td><td>  194.421437</td></tr>\n",
       "\t<tr><td>SUMMER               </td><td>  172.901302</td></tr>\n",
       "\t<tr><td>WINTER               </td><td>          NA</td></tr>\n",
       "\t<tr><td>HOLIDAY              </td><td> -129.167078</td></tr>\n",
       "\t<tr><td>NO_HOLIDAY           </td><td>          NA</td></tr>\n",
       "</tbody>\n",
       "</table>\n"
      ],
      "text/latex": [
       "A tibble: 39 × 2\n",
       "\\begin{tabular}{ll}\n",
       " Var & Coef\\\\\n",
       " <chr> & <dbl>\\\\\n",
       "\\hline\n",
       "\t (Intercept)           &   216.584059\\\\\n",
       "\t TEMPERATURE           &   810.603987\\\\\n",
       "\t HUMIDITY              &  -920.586909\\\\\n",
       "\t WIND\\_SPEED            &    -9.313319\\\\\n",
       "\t VISIBILITY            &    24.368049\\\\\n",
       "\t DEW\\_POINT\\_TEMPERATURE &   632.384298\\\\\n",
       "\t SOLAR\\_RADIATION       &   249.752454\\\\\n",
       "\t RAINFALL              & -1982.940423\\\\\n",
       "\t SNOWFALL              &   232.450790\\\\\n",
       "\t `0`                   &   -12.499804\\\\\n",
       "\t `1`                   &  -125.701499\\\\\n",
       "\t `10`                  &  -222.233262\\\\\n",
       "\t `11`                  &  -231.428411\\\\\n",
       "\t `12`                  &  -194.605041\\\\\n",
       "\t `13`                  &  -189.528426\\\\\n",
       "\t `14`                  &  -183.060291\\\\\n",
       "\t `15`                  &  -103.126885\\\\\n",
       "\t `16`                  &    43.597895\\\\\n",
       "\t `17`                  &   306.732435\\\\\n",
       "\t `18`                  &   782.841507\\\\\n",
       "\t `19`                  &   519.455508\\\\\n",
       "\t `2`                   &  -259.946174\\\\\n",
       "\t `20`                  &   394.634676\\\\\n",
       "\t `21`                  &   430.185215\\\\\n",
       "\t `22`                  &   322.663949\\\\\n",
       "\t `23`                  &    90.180803\\\\\n",
       "\t `3`                   &  -327.244955\\\\\n",
       "\t `4`                   &  -389.558392\\\\\n",
       "\t `5`                   &  -379.055209\\\\\n",
       "\t `6`                   &  -216.689105\\\\\n",
       "\t `7`                   &   110.491959\\\\\n",
       "\t `8`                   &   502.353808\\\\\n",
       "\t `9`                   &           NA\\\\\n",
       "\t AUTUMN                &   357.978265\\\\\n",
       "\t SPRING                &   194.421437\\\\\n",
       "\t SUMMER                &   172.901302\\\\\n",
       "\t WINTER                &           NA\\\\\n",
       "\t HOLIDAY               &  -129.167078\\\\\n",
       "\t NO\\_HOLIDAY            &           NA\\\\\n",
       "\\end{tabular}\n"
      ],
      "text/markdown": [
       "\n",
       "A tibble: 39 × 2\n",
       "\n",
       "| Var &lt;chr&gt; | Coef &lt;dbl&gt; |\n",
       "|---|---|\n",
       "| (Intercept)           |   216.584059 |\n",
       "| TEMPERATURE           |   810.603987 |\n",
       "| HUMIDITY              |  -920.586909 |\n",
       "| WIND_SPEED            |    -9.313319 |\n",
       "| VISIBILITY            |    24.368049 |\n",
       "| DEW_POINT_TEMPERATURE |   632.384298 |\n",
       "| SOLAR_RADIATION       |   249.752454 |\n",
       "| RAINFALL              | -1982.940423 |\n",
       "| SNOWFALL              |   232.450790 |\n",
       "| `0`                   |   -12.499804 |\n",
       "| `1`                   |  -125.701499 |\n",
       "| `10`                  |  -222.233262 |\n",
       "| `11`                  |  -231.428411 |\n",
       "| `12`                  |  -194.605041 |\n",
       "| `13`                  |  -189.528426 |\n",
       "| `14`                  |  -183.060291 |\n",
       "| `15`                  |  -103.126885 |\n",
       "| `16`                  |    43.597895 |\n",
       "| `17`                  |   306.732435 |\n",
       "| `18`                  |   782.841507 |\n",
       "| `19`                  |   519.455508 |\n",
       "| `2`                   |  -259.946174 |\n",
       "| `20`                  |   394.634676 |\n",
       "| `21`                  |   430.185215 |\n",
       "| `22`                  |   322.663949 |\n",
       "| `23`                  |    90.180803 |\n",
       "| `3`                   |  -327.244955 |\n",
       "| `4`                   |  -389.558392 |\n",
       "| `5`                   |  -379.055209 |\n",
       "| `6`                   |  -216.689105 |\n",
       "| `7`                   |   110.491959 |\n",
       "| `8`                   |   502.353808 |\n",
       "| `9`                   |           NA |\n",
       "| AUTUMN                |   357.978265 |\n",
       "| SPRING                |   194.421437 |\n",
       "| SUMMER                |   172.901302 |\n",
       "| WINTER                |           NA |\n",
       "| HOLIDAY               |  -129.167078 |\n",
       "| NO_HOLIDAY            |           NA |\n",
       "\n"
      ],
      "text/plain": [
       "   Var                   Coef        \n",
       "1  (Intercept)             216.584059\n",
       "2  TEMPERATURE             810.603987\n",
       "3  HUMIDITY               -920.586909\n",
       "4  WIND_SPEED               -9.313319\n",
       "5  VISIBILITY               24.368049\n",
       "6  DEW_POINT_TEMPERATURE   632.384298\n",
       "7  SOLAR_RADIATION         249.752454\n",
       "8  RAINFALL              -1982.940423\n",
       "9  SNOWFALL                232.450790\n",
       "10 `0`                     -12.499804\n",
       "11 `1`                    -125.701499\n",
       "12 `10`                   -222.233262\n",
       "13 `11`                   -231.428411\n",
       "14 `12`                   -194.605041\n",
       "15 `13`                   -189.528426\n",
       "16 `14`                   -183.060291\n",
       "17 `15`                   -103.126885\n",
       "18 `16`                     43.597895\n",
       "19 `17`                    306.732435\n",
       "20 `18`                    782.841507\n",
       "21 `19`                    519.455508\n",
       "22 `2`                    -259.946174\n",
       "23 `20`                    394.634676\n",
       "24 `21`                    430.185215\n",
       "25 `22`                    322.663949\n",
       "26 `23`                     90.180803\n",
       "27 `3`                    -327.244955\n",
       "28 `4`                    -389.558392\n",
       "29 `5`                    -379.055209\n",
       "30 `6`                    -216.689105\n",
       "31 `7`                     110.491959\n",
       "32 `8`                     502.353808\n",
       "33 `9`                             NA\n",
       "34 AUTUMN                  357.978265\n",
       "35 SPRING                  194.421437\n",
       "36 SUMMER                  172.901302\n",
       "37 WINTER                          NA\n",
       "38 HOLIDAY                -129.167078\n",
       "39 NO_HOLIDAY                      NA"
      ]
     },
     "metadata": {},
     "output_type": "display_data"
    }
   ],
   "source": [
    "lm_model_all$fit$coefficients %>% tidy() %>% rename(Var = names, Coef = x)"
   ]
  },
  {
   "cell_type": "markdown",
   "metadata": {},
   "source": [
    "hmm, it's not very clear to compare the coefficients from a long and unsorted list. Next, you need to sort and visualize them using a bar chart\n"
   ]
  },
  {
   "cell_type": "markdown",
   "metadata": {},
   "source": [
    "_TODO:_ Sort the coefficient list in descending order and visualize the result using `ggplot` and `geom_bar` \n"
   ]
  },
  {
   "cell_type": "code",
   "execution_count": 14,
   "metadata": {
    "tags": []
   },
   "outputs": [
    {
     "data": {
      "text/html": [
       "<table>\n",
       "<caption>A data.frame: 6 × 2</caption>\n",
       "<thead>\n",
       "\t<tr><th></th><th scope=col>Variable</th><th scope=col>coef</th></tr>\n",
       "\t<tr><th></th><th scope=col>&lt;chr&gt;</th><th scope=col>&lt;dbl&gt;</th></tr>\n",
       "</thead>\n",
       "<tbody>\n",
       "\t<tr><th scope=row>1</th><td>RAINFALL             </td><td>1982.9404</td></tr>\n",
       "\t<tr><th scope=row>2</th><td>HUMIDITY             </td><td> 920.5869</td></tr>\n",
       "\t<tr><th scope=row>3</th><td>TEMPERATURE          </td><td> 810.6040</td></tr>\n",
       "\t<tr><th scope=row>4</th><td>`18`                 </td><td> 782.8415</td></tr>\n",
       "\t<tr><th scope=row>5</th><td>DEW_POINT_TEMPERATURE</td><td> 632.3843</td></tr>\n",
       "\t<tr><th scope=row>6</th><td>`19`                 </td><td> 519.4555</td></tr>\n",
       "</tbody>\n",
       "</table>\n"
      ],
      "text/latex": [
       "A data.frame: 6 × 2\n",
       "\\begin{tabular}{r|ll}\n",
       "  & Variable & coef\\\\\n",
       "  & <chr> & <dbl>\\\\\n",
       "\\hline\n",
       "\t1 & RAINFALL              & 1982.9404\\\\\n",
       "\t2 & HUMIDITY              &  920.5869\\\\\n",
       "\t3 & TEMPERATURE           &  810.6040\\\\\n",
       "\t4 & `18`                  &  782.8415\\\\\n",
       "\t5 & DEW\\_POINT\\_TEMPERATURE &  632.3843\\\\\n",
       "\t6 & `19`                  &  519.4555\\\\\n",
       "\\end{tabular}\n"
      ],
      "text/markdown": [
       "\n",
       "A data.frame: 6 × 2\n",
       "\n",
       "| <!--/--> | Variable &lt;chr&gt; | coef &lt;dbl&gt; |\n",
       "|---|---|---|\n",
       "| 1 | RAINFALL              | 1982.9404 |\n",
       "| 2 | HUMIDITY              |  920.5869 |\n",
       "| 3 | TEMPERATURE           |  810.6040 |\n",
       "| 4 | `18`                  |  782.8415 |\n",
       "| 5 | DEW_POINT_TEMPERATURE |  632.3843 |\n",
       "| 6 | `19`                  |  519.4555 |\n",
       "\n"
      ],
      "text/plain": [
       "  Variable              coef     \n",
       "1 RAINFALL              1982.9404\n",
       "2 HUMIDITY               920.5869\n",
       "3 TEMPERATURE            810.6040\n",
       "4 `18`                   782.8415\n",
       "5 DEW_POINT_TEMPERATURE  632.3843\n",
       "6 `19`                   519.4555"
      ]
     },
     "metadata": {},
     "output_type": "display_data"
    }
   ],
   "source": [
    "# Sort coefficient list\n",
    "# Sort coefficient list\n",
    "coef <- sort(abs(coef(lm_model_all$fit)), decreasing = TRUE)\n",
    "coefdf <- data.frame(coef) %>% rownames_to_column(\"Variable\")\n",
    "head(coefdf)"
   ]
  },
  {
   "cell_type": "code",
   "execution_count": 15,
   "metadata": {
    "tags": []
   },
   "outputs": [
    {
     "data": {},
     "metadata": {},
     "output_type": "display_data"
    },
    {
     "data": {
      "image/png": "[encoded data removed]",
      "text/plain": [
       "plot without title"
      ]
     },
     "metadata": {},
     "output_type": "display_data",
     "source": "R display func"
    }
   ],
   "source": [
    "# Visualize the list using ggplot and geom_bar\n",
    "ggplot(data = coefdf, aes(x = reorder(Variable, coef), y = coef)) + geom_bar(stat = \"identity\") + coord_flip()"
   ]
  },
  {
   "cell_type": "markdown",
   "metadata": {},
   "source": [
    "You should see a sorted coefficient bar chart like the following example: \n"
   ]
  },
  {
   "cell_type": "markdown",
   "metadata": {},
   "source": [
    "<a href=\"https://cognitiveclass.ai/\">\n",
    "    <img src=\"https://cf-courses-data.s3.us.cloud-object-storage.appdomain.cloud/IBMDeveloperSkillsNetwork-RP0321EN-SkillsNetwork/labs/module_4/images/coefficient_chart.png\" width=\"600\" align=\"center\">\n",
    "</a>\n"
   ]
  },
  {
   "cell_type": "markdown",
   "metadata": {},
   "source": [
    "Mark down these 'top-ranked variables by coefficient', which will be used for model refinments in the next labs.\n"
   ]
  },
  {
   "cell_type": "markdown",
   "metadata": {},
   "source": [
    "Note that here the main reason we use absolute value is to easily identify important variables, i.e. variables with large magnitudes, no matter it's negative or positive. If we want to interprete the model then it's better to seperate the positive and negative coefficients.\n"
   ]
  },
  {
   "cell_type": "markdown",
   "metadata": {},
   "source": [
    "# Next Steps\n"
   ]
  },
  {
   "cell_type": "markdown",
   "metadata": {},
   "source": [
    "Great! Now you have built a baseline linear regression model to predict hourly bike rent count, with reasonably good performance. In the next lab, you will be refining the baseline model to improve its performance.\n"
   ]
  },
  {
   "cell_type": "markdown",
   "metadata": {},
   "source": [
    "## Authors\n",
    "\n",
    "<a href=\"https://www.linkedin.com/in/yan-luo-96288783/\" target=\"_blank\">Yan Luo</a>\n"
   ]
  },
  {
   "cell_type": "markdown",
   "metadata": {},
   "source": [
    "### Other Contributors\n",
    "\n",
    "Jeff Grossman\n"
   ]
  },
  {
   "cell_type": "markdown",
   "metadata": {},
   "source": [
    "## Change Log\n",
    "\n",
    "| Date (YYYY-MM-DD) | Version | Changed By | Change Description           |\n",
    "| ----------------- | ------- | ---------- | ---------------------------- |\n",
    "| 2021-04-08        | 1.0     | Yan        | Initial version created      |\n",
    "|                   |         |            |                              |\n",
    "|                   |         |            |                              |\n",
    "\n",
    "## <h3 align=\"center\"> © IBM Corporation 2021. All rights reserved. <h3/>\n"
   ]
  }
 ],
 "metadata": {
  "kernelspec": {
   "display_name": "R",
   "language": "R",
   "name": "conda-env-r-r"
  },
  "language_info": {
   "codemirror_mode": "r",
   "file_extension": ".r",
   "mimetype": "text/x-r-source",
   "name": "R",
   "pygments_lexer": "r",
   "version": "3.5.1"
  }
 },
 "nbformat": 4,
 "nbformat_minor": 4
}
